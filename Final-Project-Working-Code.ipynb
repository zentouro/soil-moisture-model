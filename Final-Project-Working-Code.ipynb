{
 "cells": [
  {
   "cell_type": "markdown",
   "metadata": {},
   "source": [
    "## Idealized Soil Moisture Bucket Model\n",
    "Developed for Idealized Models Class\n",
    "\n",
    "\n",
    "### Motivation\n",
    "\n",
    "### Model\n",
    "\n",
    "### Works Cited\n"
   ]
  },
  {
   "cell_type": "markdown",
   "metadata": {},
   "source": [
    "### How much precipitation is needed to end a soil moisture drought? \n",
    "\n",
    "And how does that change if temperature increases (but precip holds steady)?"
   ]
  },
  {
   "cell_type": "markdown",
   "metadata": {},
   "source": [
    "## Governing Equation\n",
    "\n",
    "In imagining the regions soil moisture as a large bucket, the governing equation can be simplified to: \n",
    "\n",
    "$\\frac{d SM}{dt} = P - E$\n",
    "\n",
    "where SM is soil moisture, P, is precipitation and E is evapotranspiration. \n",
    "\n",
    "Precipitation is variable and pulled from data (see following section). \n",
    "\n",
    "Evapotranspiration is calculated.  TK TK TK how it is calculated. "
   ]
  },
  {
   "cell_type": "markdown",
   "metadata": {},
   "source": [
    "## Dataset\n",
    "\n",
    "CRU climate gridded time-series dataset\n",
    "\n",
    "not currently using the newest version available on the website (https://crudata.uea.ac.uk/cru/data/hrg/)\n",
    "\n",
    "using CRU TS v. 4.04 https://crudata.uea.ac.uk/cru/data/hrg/#legacy \n",
    "This version, released 24 April 2020, covers the period 1901-2019\n",
    "\n",
    "Coverage: All land areas (excluding Antarctica) at 0.5° resolution\n",
    "\n",
    "Variables: pre, tmp, tmx, tmn, dtr, vap, cld, wet, frs, pet\n",
    "\n",
    "Reference: Harris et al. (2020) doi:10.1038/s41597-020-0453-3 "
   ]
  },
  {
   "cell_type": "code",
   "execution_count": 3,
   "metadata": {},
   "outputs": [],
   "source": [
    "## Needed packages \n",
    "import numpy as np\n",
    "import warnings\n",
    "import pandas as pd\n",
    "import xarray as xr\n",
    "\n",
    "from matplotlib import pyplot as plt\n",
    "%matplotlib inline\n",
    "plt.rcParams['figure.figsize'] = (12, 6)"
   ]
  },
  {
   "cell_type": "code",
   "execution_count": 2,
   "metadata": {},
   "outputs": [],
   "source": [
    "warnings.filterwarnings('ignore')"
   ]
  },
  {
   "cell_type": "code",
   "execution_count": 4,
   "metadata": {},
   "outputs": [],
   "source": [
    "# model experiments\n",
    "# create a dictionary to trial different inputs"
   ]
  },
  {
   "cell_type": "code",
   "execution_count": 5,
   "metadata": {},
   "outputs": [],
   "source": [
    "# dataframe \n",
    "# create a pandas dataframe for easy visualization of outputs and plotting"
   ]
  },
  {
   "cell_type": "code",
   "execution_count": null,
   "metadata": {},
   "outputs": [],
   "source": [
    "# bucket model v1"
   ]
  }
 ],
 "metadata": {
  "kernelspec": {
   "display_name": "Python 3",
   "language": "python",
   "name": "python3"
  },
  "language_info": {
   "codemirror_mode": {
    "name": "ipython",
    "version": 3
   },
   "file_extension": ".py",
   "mimetype": "text/x-python",
   "name": "python",
   "nbconvert_exporter": "python",
   "pygments_lexer": "ipython3",
   "version": "3.7.8"
  }
 },
 "nbformat": 4,
 "nbformat_minor": 4
}
